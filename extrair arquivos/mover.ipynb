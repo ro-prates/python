{
 "cells": [
  {
   "cell_type": "code",
   "execution_count": 1,
   "metadata": {},
   "outputs": [],
   "source": [
    "# mover arquivos com python, rmtree é utilizado para excluir pastas com arquivos dentro\n",
    "import os\n",
    "from zipfile import ZipFile\n",
    "from shutil import rmtree"
   ]
  },
  {
   "cell_type": "code",
   "execution_count": 2,
   "metadata": {},
   "outputs": [],
   "source": [
    "# caminho da pasta\n",
    "caminho = os.getcwd()"
   ]
  },
  {
   "cell_type": "code",
   "execution_count": 3,
   "metadata": {},
   "outputs": [],
   "source": [
    "# extrair arquivos que estão zipados\n",
    "nomes = os.listdir()\n",
    "for i in nomes:\n",
    "    if '.zip' in i:\n",
    "        z = ZipFile(f'{i}', 'r')\n",
    "        z.extractall()\n",
    "        z.close()"
   ]
  },
  {
   "cell_type": "code",
   "execution_count": 4,
   "metadata": {},
   "outputs": [],
   "source": [
    "# pegando o nome da pasta que contém todas as outras pastas dentro\n",
    "nomes = os.listdir()\n",
    "for i in nomes:\n",
    "    if i != 'mover.ipynb' and '.mp3' not in i and '.zip' not in i:\n",
    "        nome_pasta = i\n",
    "dentrodapasta = f'{caminho}\\{nome_pasta}'"
   ]
  },
  {
   "cell_type": "code",
   "execution_count": 5,
   "metadata": {},
   "outputs": [],
   "source": [
    "# criando lista com os nomes das pastas\n",
    "listadepastas = []\n",
    "arquivos = os.listdir(dentrodapasta)\n",
    "for arquivo in arquivos:\n",
    "    if arquivo != 'mover.ipynb' and '.mp3' not in arquivo and '.zip' not in arquivo:\n",
    "        listadepastas.append(arquivo)"
   ]
  },
  {
   "cell_type": "code",
   "execution_count": 6,
   "metadata": {},
   "outputs": [
    {
     "name": "stdout",
     "output_type": "stream",
     "text": [
      "quantidade de arquivos duplicados: 113\n"
     ]
    }
   ],
   "source": [
    "# entrando nas pastas e extraindo os arquivos para a pasta principal\n",
    "duplicados = 0\n",
    "for i in listadepastas:\n",
    "    novo = f'{dentrodapasta}\\{i}'\n",
    "    for musica in os.listdir(novo):\n",
    "        if '.mp3' in musica:\n",
    "            try:\n",
    "                os.rename(f'{novo}\\{musica}', f'{dentrodapasta}\\{musica}')\n",
    "            except FileExistsError as erro:\n",
    "                duplicados += 1\n",
    "print('quantidade de arquivos duplicados:', duplicados)"
   ]
  },
  {
   "cell_type": "code",
   "execution_count": 7,
   "metadata": {},
   "outputs": [],
   "source": [
    "# excluir as pastas que já foram tiradas as músicas\n",
    "while listadepastas:\n",
    "    for i in listadepastas:\n",
    "        try:\n",
    "            rmtree(f'{dentrodapasta}\\{i}')\n",
    "            listadepastas.remove(i)\n",
    "        except FileNotFoundError as erro:\n",
    "            pass"
   ]
  },
  {
   "cell_type": "code",
   "execution_count": 8,
   "metadata": {},
   "outputs": [],
   "source": [
    "# apagar os arquivos zipados\n",
    "apagar = os.listdir()\n",
    "for i in apagar:\n",
    "    if '.zip' in i:\n",
    "        os.remove(i)"
   ]
  }
 ],
 "metadata": {
  "kernelspec": {
   "display_name": "Python 3.9.7 ('base')",
   "language": "python",
   "name": "python3"
  },
  "language_info": {
   "codemirror_mode": {
    "name": "ipython",
    "version": 3
   },
   "file_extension": ".py",
   "mimetype": "text/x-python",
   "name": "python",
   "nbconvert_exporter": "python",
   "pygments_lexer": "ipython3",
   "version": "3.9.7"
  },
  "orig_nbformat": 4,
  "vscode": {
   "interpreter": {
    "hash": "2dd544e7fba02639034cb698fd41c551b886976fe883b63cb379cd69a3c56f89"
   }
  }
 },
 "nbformat": 4,
 "nbformat_minor": 2
}
