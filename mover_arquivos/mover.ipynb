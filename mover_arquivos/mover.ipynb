{
 "cells": [
  {
   "cell_type": "code",
   "execution_count": null,
   "metadata": {},
   "outputs": [],
   "source": [
    "# mover arquivos com python\n",
    "import os"
   ]
  },
  {
   "cell_type": "code",
   "execution_count": null,
   "metadata": {},
   "outputs": [],
   "source": [
    "# listar arquivos\n",
    "arquivos = os.listdir()\n",
    "print(arquivos)"
   ]
  },
  {
   "cell_type": "code",
   "execution_count": null,
   "metadata": {},
   "outputs": [],
   "source": [
    "# caminho da pasta\n",
    "caminho = os.getcwd()\n",
    "print(caminho)"
   ]
  },
  {
   "cell_type": "code",
   "execution_count": null,
   "metadata": {},
   "outputs": [],
   "source": [
    "# renomear arquivo\n",
    "# os.rename('Vendas - 1.xlsx', 'Vendas 1.xlsx')\n",
    "\n",
    "# mover o arquivo para outra pasta\n",
    "os.rename('Vendas - 1.xlsx', 'Vendas\\Vendas - 1.xlsx')"
   ]
  },
  {
   "cell_type": "code",
   "execution_count": null,
   "metadata": {},
   "outputs": [],
   "source": [
    "# copiar arquivos, este método faz uma cópia do arquivo ao invés de mover\n",
    "import shutil\n",
    "shutil.copy2('Vendas - 1.xlsx', 'Vendas\\Vendas - 1.xlsx')"
   ]
  },
  {
   "cell_type": "code",
   "execution_count": null,
   "metadata": {},
   "outputs": [],
   "source": [
    "arquivos = os.listdir()\n",
    "for arquivo in arquivos:\n",
    "    if 'xlsx' in arquivo:\n",
    "        if 'Compras' in arquivo:\n",
    "            # pasta de compras\n",
    "            os.rename(arquivo, f'Compras\\{arquivo}')\n",
    "        elif 'Vendas' in arquivo:\n",
    "            # pasta de vendas\n",
    "             os.rename(arquivo, f'Vendas\\{arquivo}')"
   ]
  }
 ],
 "metadata": {
  "kernelspec": {
   "display_name": "Python 3.9.7 ('base')",
   "language": "python",
   "name": "python3"
  },
  "language_info": {
   "codemirror_mode": {
    "name": "ipython",
    "version": 3
   },
   "file_extension": ".py",
   "mimetype": "text/x-python",
   "name": "python",
   "nbconvert_exporter": "python",
   "pygments_lexer": "ipython3",
   "version": "3.9.7"
  },
  "orig_nbformat": 4,
  "vscode": {
   "interpreter": {
    "hash": "2dd544e7fba02639034cb698fd41c551b886976fe883b63cb379cd69a3c56f89"
   }
  }
 },
 "nbformat": 4,
 "nbformat_minor": 2
}
