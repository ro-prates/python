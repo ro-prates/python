{
 "cells": [
  {
   "cell_type": "code",
   "execution_count": null,
   "id": "e29891db",
   "metadata": {},
   "outputs": [],
   "source": [
    "from selenium import webdriver\n",
    "from webdriver_manager.chrome import ChromeDriverManager\n",
    "from selenium.webdriver.chrome.service import Service"
   ]
  },
  {
   "cell_type": "code",
   "execution_count": null,
   "id": "1acb0a82",
   "metadata": {},
   "outputs": [],
   "source": [
    "servico = Service(ChromeDriverManager().install())\n",
    "navegador = webdriver.Chrome(service=servico)"
   ]
  },
  {
   "cell_type": "code",
   "execution_count": null,
   "id": "4b84698f",
   "metadata": {},
   "outputs": [],
   "source": [
    "# abrir página no navegador\n",
    "navegador.get(\"https://pages.hashtagtreinamentos.com/arquivo-python-1jGh7kZSxQLoznA_GgwnWa8f7LEl3kKCZ?origemurl=hashtag_yt_org_planilhapyt_8AMNaVt0z_M\")"
   ]
  },
  {
   "cell_type": "code",
   "execution_count": null,
   "id": "d090dd4d",
   "metadata": {},
   "outputs": [],
   "source": [
    "# escrevendo dentro de algum campo, send_keys\n",
    "navegador.find_element('xpath', '//*[@id=\"section-17877670\"]/section/div[2]/div/form/div[1]/div/div/div/input').send_keys('teste@gmail.com')"
   ]
  },
  {
   "cell_type": "code",
   "execution_count": null,
   "id": "5191f3c0",
   "metadata": {},
   "outputs": [],
   "source": [
    "# clicar no botão\n",
    "navegador.find_element('xpath', '//*[@id=\"section-17877670\"]/section/div[2]/div/form/button').click()"
   ]
  }
 ],
 "metadata": {
  "kernelspec": {
   "display_name": "Python 3.10.0 64-bit",
   "language": "python",
   "name": "python3"
  },
  "language_info": {
   "codemirror_mode": {
    "name": "ipython",
    "version": 3
   },
   "file_extension": ".py",
   "mimetype": "text/x-python",
   "name": "python",
   "nbconvert_exporter": "python",
   "pygments_lexer": "ipython3",
   "version": "3.10.0"
  },
  "vscode": {
   "interpreter": {
    "hash": "58cf9e7d7d5f82f5e504d33a7477d8f1af104107c35b27fedcee268f33f69822"
   }
  }
 },
 "nbformat": 4,
 "nbformat_minor": 5
}
