{
 "cells": [
  {
   "cell_type": "code",
   "execution_count": 1,
   "id": "e29891db",
   "metadata": {},
   "outputs": [],
   "source": [
    "from selenium import webdriver\n",
    "from webdriver_manager.chrome import ChromeDriverManager\n",
    "from selenium.webdriver.chrome.service import Service"
   ]
  },
  {
   "cell_type": "code",
   "execution_count": 2,
   "id": "1acb0a82",
   "metadata": {},
   "outputs": [
    {
     "name": "stdout",
     "output_type": "stream",
     "text": [
      "\n"
     ]
    }
   ],
   "source": [
    "servico = Service(ChromeDriverManager().install())\n",
    "navegador = webdriver.Chrome(service=servico)"
   ]
  },
  {
   "cell_type": "code",
   "execution_count": 3,
   "id": "4b84698f",
   "metadata": {},
   "outputs": [],
   "source": [
    "# abrir página no navegador\n",
    "navegador.get(\"https://pages.hashtagtreinamentos.com/arquivo-python-1jGh7kZSxQLoznA_GgwnWa8f7LEl3kKCZ?origemurl=hashtag_yt_org_planilhapyt_8AMNaVt0z_M\")"
   ]
  },
  {
   "cell_type": "code",
   "execution_count": 4,
   "id": "d090dd4d",
   "metadata": {},
   "outputs": [],
   "source": [
    "# escrevendo dentro de algum campo, send_keys\n",
    "navegador.find_element('xpath', '//*[@id=\"section-17877670\"]/section/div[2]/div/form/div[1]/div/div/div/input').send_keys('teste@gmail.com')"
   ]
  },
  {
   "cell_type": "code",
   "execution_count": 5,
   "id": "5191f3c0",
   "metadata": {},
   "outputs": [
    {
     "ename": "WebDriverException",
     "evalue": "Message: unknown error: cannot determine loading status\nfrom unknown error: unexpected command response\n  (Session info: chrome=103.0.5060.114)\nStacktrace:\nBacktrace:\n\tOrdinal0 [0x00B96463+2188387]\n\tOrdinal0 [0x00B2E461+1762401]\n\tOrdinal0 [0x00A43D78+802168]\n\tOrdinal0 [0x00A37210+750096]\n\tOrdinal0 [0x00A3675A+747354]\n\tOrdinal0 [0x00A35D3F+744767]\n\tOrdinal0 [0x00A34C28+740392]\n\tOrdinal0 [0x00A35228+741928]\n\tOrdinal0 [0x00A3EF2F+782127]\n\tOrdinal0 [0x00A49FBB+827323]\n\tOrdinal0 [0x00A4D310+840464]\n\tOrdinal0 [0x00A354F6+742646]\n\tOrdinal0 [0x00A49BF3+826355]\n\tOrdinal0 [0x00A9CF6D+1167213]\n\tOrdinal0 [0x00A8C5F6+1099254]\n\tOrdinal0 [0x00A66BE0+945120]\n\tOrdinal0 [0x00A67AD6+948950]\n\tGetHandleVerifier [0x00E371F2+2712546]\n\tGetHandleVerifier [0x00E2886D+2652765]\n\tGetHandleVerifier [0x00C2002A+520730]\n\tGetHandleVerifier [0x00C1EE06+516086]\n\tOrdinal0 [0x00B3468B+1787531]\n\tOrdinal0 [0x00B38E88+1805960]\n\tOrdinal0 [0x00B38F75+1806197]\n\tOrdinal0 [0x00B41DF1+1842673]\n\tBaseThreadInitThunk [0x7564FA29+25]\n\tRtlGetAppContainerNamedObjectPath [0x77497A9E+286]\n\tRtlGetAppContainerNamedObjectPath [0x77497A6E+238]\n",
     "output_type": "error",
     "traceback": [
      "\u001b[1;31m---------------------------------------------------------------------------\u001b[0m",
      "\u001b[1;31mWebDriverException\u001b[0m                        Traceback (most recent call last)",
      "\u001b[1;32mc:\\Users\\ronal\\Desktop\\selenium\\automacao.ipynb Célula: 5\u001b[0m in \u001b[0;36m<cell line: 2>\u001b[1;34m()\u001b[0m\n\u001b[0;32m      <a href='vscode-notebook-cell:/c%3A/Users/ronal/Desktop/selenium/automacao.ipynb#ch0000004?line=0'>1</a>\u001b[0m \u001b[39m# clicar no botão\u001b[39;00m\n\u001b[1;32m----> <a href='vscode-notebook-cell:/c%3A/Users/ronal/Desktop/selenium/automacao.ipynb#ch0000004?line=1'>2</a>\u001b[0m navegador\u001b[39m.\u001b[39;49mfind_element(\u001b[39m'\u001b[39;49m\u001b[39mxpath\u001b[39;49m\u001b[39m'\u001b[39;49m, \u001b[39m'\u001b[39;49m\u001b[39m//*[@id=\u001b[39;49m\u001b[39m\"\u001b[39;49m\u001b[39msection-17877670\u001b[39;49m\u001b[39m\"\u001b[39;49m\u001b[39m]/section/div[2]/div/form/button\u001b[39;49m\u001b[39m'\u001b[39;49m)\u001b[39m.\u001b[39;49mclick()\n",
      "File \u001b[1;32mc:\\Users\\ronal\\AppData\\Local\\Programs\\Python\\Python310\\lib\\site-packages\\selenium\\webdriver\\remote\\webelement.py:88\u001b[0m, in \u001b[0;36mWebElement.click\u001b[1;34m(self)\u001b[0m\n\u001b[0;32m     86\u001b[0m \u001b[39mdef\u001b[39;00m \u001b[39mclick\u001b[39m(\u001b[39mself\u001b[39m) \u001b[39m-\u001b[39m\u001b[39m>\u001b[39m \u001b[39mNone\u001b[39;00m:\n\u001b[0;32m     87\u001b[0m     \u001b[39m\"\"\"Clicks the element.\"\"\"\u001b[39;00m\n\u001b[1;32m---> 88\u001b[0m     \u001b[39mself\u001b[39;49m\u001b[39m.\u001b[39;49m_execute(Command\u001b[39m.\u001b[39;49mCLICK_ELEMENT)\n",
      "File \u001b[1;32mc:\\Users\\ronal\\AppData\\Local\\Programs\\Python\\Python310\\lib\\site-packages\\selenium\\webdriver\\remote\\webelement.py:396\u001b[0m, in \u001b[0;36mWebElement._execute\u001b[1;34m(self, command, params)\u001b[0m\n\u001b[0;32m    394\u001b[0m     params \u001b[39m=\u001b[39m {}\n\u001b[0;32m    395\u001b[0m params[\u001b[39m'\u001b[39m\u001b[39mid\u001b[39m\u001b[39m'\u001b[39m] \u001b[39m=\u001b[39m \u001b[39mself\u001b[39m\u001b[39m.\u001b[39m_id\n\u001b[1;32m--> 396\u001b[0m \u001b[39mreturn\u001b[39;00m \u001b[39mself\u001b[39;49m\u001b[39m.\u001b[39;49m_parent\u001b[39m.\u001b[39;49mexecute(command, params)\n",
      "File \u001b[1;32mc:\\Users\\ronal\\AppData\\Local\\Programs\\Python\\Python310\\lib\\site-packages\\selenium\\webdriver\\remote\\webdriver.py:435\u001b[0m, in \u001b[0;36mWebDriver.execute\u001b[1;34m(self, driver_command, params)\u001b[0m\n\u001b[0;32m    433\u001b[0m response \u001b[39m=\u001b[39m \u001b[39mself\u001b[39m\u001b[39m.\u001b[39mcommand_executor\u001b[39m.\u001b[39mexecute(driver_command, params)\n\u001b[0;32m    434\u001b[0m \u001b[39mif\u001b[39;00m response:\n\u001b[1;32m--> 435\u001b[0m     \u001b[39mself\u001b[39;49m\u001b[39m.\u001b[39;49merror_handler\u001b[39m.\u001b[39;49mcheck_response(response)\n\u001b[0;32m    436\u001b[0m     response[\u001b[39m'\u001b[39m\u001b[39mvalue\u001b[39m\u001b[39m'\u001b[39m] \u001b[39m=\u001b[39m \u001b[39mself\u001b[39m\u001b[39m.\u001b[39m_unwrap_value(\n\u001b[0;32m    437\u001b[0m         response\u001b[39m.\u001b[39mget(\u001b[39m'\u001b[39m\u001b[39mvalue\u001b[39m\u001b[39m'\u001b[39m, \u001b[39mNone\u001b[39;00m))\n\u001b[0;32m    438\u001b[0m     \u001b[39mreturn\u001b[39;00m response\n",
      "File \u001b[1;32mc:\\Users\\ronal\\AppData\\Local\\Programs\\Python\\Python310\\lib\\site-packages\\selenium\\webdriver\\remote\\errorhandler.py:247\u001b[0m, in \u001b[0;36mErrorHandler.check_response\u001b[1;34m(self, response)\u001b[0m\n\u001b[0;32m    245\u001b[0m         alert_text \u001b[39m=\u001b[39m value[\u001b[39m'\u001b[39m\u001b[39malert\u001b[39m\u001b[39m'\u001b[39m]\u001b[39m.\u001b[39mget(\u001b[39m'\u001b[39m\u001b[39mtext\u001b[39m\u001b[39m'\u001b[39m)\n\u001b[0;32m    246\u001b[0m     \u001b[39mraise\u001b[39;00m exception_class(message, screen, stacktrace, alert_text)  \u001b[39m# type: ignore[call-arg]  # mypy is not smart enough here\u001b[39;00m\n\u001b[1;32m--> 247\u001b[0m \u001b[39mraise\u001b[39;00m exception_class(message, screen, stacktrace)\n",
      "\u001b[1;31mWebDriverException\u001b[0m: Message: unknown error: cannot determine loading status\nfrom unknown error: unexpected command response\n  (Session info: chrome=103.0.5060.114)\nStacktrace:\nBacktrace:\n\tOrdinal0 [0x00B96463+2188387]\n\tOrdinal0 [0x00B2E461+1762401]\n\tOrdinal0 [0x00A43D78+802168]\n\tOrdinal0 [0x00A37210+750096]\n\tOrdinal0 [0x00A3675A+747354]\n\tOrdinal0 [0x00A35D3F+744767]\n\tOrdinal0 [0x00A34C28+740392]\n\tOrdinal0 [0x00A35228+741928]\n\tOrdinal0 [0x00A3EF2F+782127]\n\tOrdinal0 [0x00A49FBB+827323]\n\tOrdinal0 [0x00A4D310+840464]\n\tOrdinal0 [0x00A354F6+742646]\n\tOrdinal0 [0x00A49BF3+826355]\n\tOrdinal0 [0x00A9CF6D+1167213]\n\tOrdinal0 [0x00A8C5F6+1099254]\n\tOrdinal0 [0x00A66BE0+945120]\n\tOrdinal0 [0x00A67AD6+948950]\n\tGetHandleVerifier [0x00E371F2+2712546]\n\tGetHandleVerifier [0x00E2886D+2652765]\n\tGetHandleVerifier [0x00C2002A+520730]\n\tGetHandleVerifier [0x00C1EE06+516086]\n\tOrdinal0 [0x00B3468B+1787531]\n\tOrdinal0 [0x00B38E88+1805960]\n\tOrdinal0 [0x00B38F75+1806197]\n\tOrdinal0 [0x00B41DF1+1842673]\n\tBaseThreadInitThunk [0x7564FA29+25]\n\tRtlGetAppContainerNamedObjectPath [0x77497A9E+286]\n\tRtlGetAppContainerNamedObjectPath [0x77497A6E+238]\n"
     ]
    }
   ],
   "source": [
    "# clicar no botão\n",
    "navegador.find_element('xpath', '//*[@id=\"section-17877670\"]/section/div[2]/div/form/button').click()"
   ]
  },
  {
   "cell_type": "code",
   "execution_count": null,
   "id": "363b2dc5",
   "metadata": {},
   "outputs": [],
   "source": [
    "navegador.find_element"
   ]
  }
 ],
 "metadata": {
  "kernelspec": {
   "display_name": "Python 3.10.0 64-bit",
   "language": "python",
   "name": "python3"
  },
  "language_info": {
   "codemirror_mode": {
    "name": "ipython",
    "version": 3
   },
   "file_extension": ".py",
   "mimetype": "text/x-python",
   "name": "python",
   "nbconvert_exporter": "python",
   "pygments_lexer": "ipython3",
   "version": "3.10.0"
  },
  "vscode": {
   "interpreter": {
    "hash": "58cf9e7d7d5f82f5e504d33a7477d8f1af104107c35b27fedcee268f33f69822"
   }
  }
 },
 "nbformat": 4,
 "nbformat_minor": 5
}
